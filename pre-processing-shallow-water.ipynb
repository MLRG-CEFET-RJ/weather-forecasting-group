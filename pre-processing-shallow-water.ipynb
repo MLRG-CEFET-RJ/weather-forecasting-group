{
 "cells": [
  {
   "cell_type": "code",
   "execution_count": 61,
   "metadata": {},
   "outputs": [],
   "source": [
    "import warnings\n",
    "warnings.filterwarnings(\"ignore\")"
   ]
  },
  {
   "cell_type": "code",
   "execution_count": 62,
   "metadata": {},
   "outputs": [],
   "source": [
    "import xarray as xr\n",
    "import cartopy.crs as ccrs\n",
    "import cartopy.feature as cfeature\n",
    "import matplotlib.pyplot as plt\n",
    "import numpy as np\n",
    "import glob\n",
    "%matplotlib inline"
   ]
  },
  {
   "cell_type": "code",
   "execution_count": 63,
   "metadata": {},
   "outputs": [],
   "source": [
    "DATA_FOLDER = './data'\n",
    "OUTPUT_FOLDER = './output'"
   ]
  },
  {
   "cell_type": "code",
   "execution_count": 64,
   "metadata": {},
   "outputs": [],
   "source": [
    "HIGH_RESOLUTION = '20.0'\n",
    "LOW_RESOLUTION = '100.0'"
   ]
  },
  {
   "cell_type": "code",
   "execution_count": 65,
   "metadata": {
    "scrolled": true
   },
   "outputs": [],
   "source": [
    "NETCFD_LR_FILE_ETA = DATA_FOLDER + '/eta_eulerian_resolution_' + LOW_RESOLUTION + 'km.nc'\n",
    "NETCFD_LR_FILE_U = DATA_FOLDER + '/u_eulerian_resolution_' + LOW_RESOLUTION + 'km.nc'\n",
    "NETCFD_LR_FILE_V = DATA_FOLDER + '/v_eulerian_resolution_' + LOW_RESOLUTION + 'km.nc'"
   ]
  },
  {
   "cell_type": "code",
   "execution_count": 66,
   "metadata": {},
   "outputs": [],
   "source": [
    "NETCFD_HR_FILE_ETA = DATA_FOLDER + '/eta_eulerian_resolution_' + HIGH_RESOLUTION + 'km.nc'\n",
    "NETCFD_HR_FILE_U = DATA_FOLDER + '/u_eulerian_resolution_' + HIGH_RESOLUTION + 'km.nc'\n",
    "NETCFD_HR_FILE_V = DATA_FOLDER + '/v_eulerian_resolution_' + HIGH_RESOLUTION + 'km.nc'"
   ]
  },
  {
   "cell_type": "code",
   "execution_count": 67,
   "metadata": {},
   "outputs": [],
   "source": [
    "ds_lr_u = xr.open_mfdataset(NETCFD_LR_FILE_U)\n",
    "ds_lr_v = xr.open_mfdataset(NETCFD_LR_FILE_V)\n",
    "ds_lr_eta = xr.open_mfdataset(NETCFD_LR_FILE_ETA)"
   ]
  },
  {
   "cell_type": "code",
   "execution_count": 68,
   "metadata": {},
   "outputs": [],
   "source": [
    "ds_hr_u = xr.open_mfdataset(NETCFD_HR_FILE_U)\n",
    "ds_hr_v = xr.open_mfdataset(NETCFD_HR_FILE_V)\n",
    "ds_hr_eta = xr.open_mfdataset(NETCFD_HR_FILE_ETA)"
   ]
  },
  {
   "cell_type": "code",
   "execution_count": 69,
   "metadata": {},
   "outputs": [],
   "source": [
    "ds_lr_u = ds_lr_u.rename({'x':'x_sw', 'y':'y_sw','__xarray_dataarray_variable__':'u'})\n",
    "ds_lr_v = ds_lr_v.rename({'x':'x_sw', 'y':'y_sw','__xarray_dataarray_variable__':'v'})\n",
    "ds_lr_eta = ds_lr_eta.rename({'x':'x_sw', 'y':'y_sw','__xarray_dataarray_variable__':'eta'})"
   ]
  },
  {
   "cell_type": "code",
   "execution_count": 70,
   "metadata": {},
   "outputs": [],
   "source": [
    "ds_hr_u = ds_hr_u.rename({'x':'x_sw', 'y':'y_sw','__xarray_dataarray_variable__':'u'})\n",
    "ds_hr_v = ds_hr_v.rename({'x':'x_sw', 'y':'y_sw','__xarray_dataarray_variable__':'v'})\n",
    "ds_hr_eta = ds_hr_eta.rename({'x':'x_sw', 'y':'y_sw','__xarray_dataarray_variable__':'eta'})"
   ]
  },
  {
   "cell_type": "markdown",
   "metadata": {},
   "source": [
    "### Interpolation"
   ]
  },
  {
   "cell_type": "code",
   "execution_count": 71,
   "metadata": {},
   "outputs": [],
   "source": [
    "da_hr_eta_interp = ds_hr_eta.interp(x_sw=ds_lr_eta.x_sw, y_sw=ds_lr_eta.y_sw, method='linear').eta"
   ]
  },
  {
   "cell_type": "code",
   "execution_count": 72,
   "metadata": {},
   "outputs": [],
   "source": [
    "da_hr_u_interp = ds_hr_u.interp(x_sw=da_hr_eta_interp.x_sw, y_sw=da_hr_eta_interp.y_sw, method='linear').u\n",
    "da_hr_v_interp = ds_hr_v.interp(x_sw=da_hr_eta_interp.x_sw, y_sw=da_hr_eta_interp.y_sw, method='linear').v"
   ]
  },
  {
   "cell_type": "code",
   "execution_count": 73,
   "metadata": {},
   "outputs": [
    {
     "data": {
      "text/plain": [
       "<xarray.DataArray 'u' (y_sw: 20, x_sw: 20, time: 36656)>\n",
       "dask.array<shape=(20, 20, 36656), dtype=float64, chunksize=(20, 20, 36656)>\n",
       "Coordinates:\n",
       "  * time     (time) float64 0.0 70.71 141.4 ... 2.592e+06 2.592e+06 2.592e+06\n",
       "  * x_sw     (x_sw) float64 0.0 1e+05 2e+05 3e+05 ... 1.7e+06 1.8e+06 1.9e+06\n",
       "  * y_sw     (y_sw) float64 -1e+06 -9e+05 -8e+05 -7e+05 ... 7e+05 8e+05 9e+05"
      ]
     },
     "execution_count": 73,
     "metadata": {},
     "output_type": "execute_result"
    }
   ],
   "source": [
    "da_hr_u_interp"
   ]
  },
  {
   "cell_type": "code",
   "execution_count": 74,
   "metadata": {},
   "outputs": [
    {
     "data": {
      "text/plain": [
       "<xarray.DataArray 'v' (y_sw: 20, x_sw: 20, time: 36656)>\n",
       "dask.array<shape=(20, 20, 36656), dtype=float64, chunksize=(20, 20, 36656)>\n",
       "Coordinates:\n",
       "  * time     (time) float64 0.0 70.71 141.4 ... 2.592e+06 2.592e+06 2.592e+06\n",
       "  * x_sw     (x_sw) float64 0.0 1e+05 2e+05 3e+05 ... 1.7e+06 1.8e+06 1.9e+06\n",
       "  * y_sw     (y_sw) float64 -1e+06 -9e+05 -8e+05 -7e+05 ... 7e+05 8e+05 9e+05"
      ]
     },
     "execution_count": 74,
     "metadata": {},
     "output_type": "execute_result"
    }
   ],
   "source": [
    "da_hr_v_interp"
   ]
  },
  {
   "cell_type": "code",
   "execution_count": 75,
   "metadata": {},
   "outputs": [
    {
     "data": {
      "text/plain": [
       "<xarray.DataArray 'eta' (y_sw: 20, x_sw: 20, time: 36656)>\n",
       "dask.array<shape=(20, 20, 36656), dtype=float64, chunksize=(20, 20, 36656)>\n",
       "Coordinates:\n",
       "  * time     (time) float64 0.0 70.71 141.4 ... 2.592e+06 2.592e+06 2.592e+06\n",
       "  * x_sw     (x_sw) float64 0.0 1e+05 2e+05 3e+05 ... 1.7e+06 1.8e+06 1.9e+06\n",
       "  * y_sw     (y_sw) float64 -1e+06 -9e+05 -8e+05 -7e+05 ... 7e+05 8e+05 9e+05"
      ]
     },
     "execution_count": 75,
     "metadata": {},
     "output_type": "execute_result"
    }
   ],
   "source": [
    "da_hr_eta_interp"
   ]
  },
  {
   "cell_type": "markdown",
   "metadata": {},
   "source": [
    "### Dataset Generation"
   ]
  },
  {
   "cell_type": "code",
   "execution_count": 76,
   "metadata": {},
   "outputs": [],
   "source": [
    "def create_sequence_ds(dataset, x_step=1, x_size=5, y_step=1, y_size=5):\n",
    "    time_size = dataset.time.size\n",
    "    one_sample_size = ((x_size * x_step) + (y_size * y_step)) - (x_size - 1)\n",
    "    sample_size = time_size - one_sample_size\n",
    "    x_list, y_list = __process_sequence_ds(dataset, x_step, x_size, y_step, y_size, sample_size)\n",
    "    x_data = xr.concat(x_list, dim='sample')\n",
    "    x_data = x_data.expand_dims(dim='channel', axis=-1)\n",
    "    y_data = xr.concat(y_list, dim='sample')\n",
    "    y_data = y_data.expand_dims(dim='channel', axis=-1)\n",
    "    \n",
    "    print('Sample size: ', x_data.sample.size)\n",
    "    \n",
    "    return x_data, y_data\n",
    "\n",
    "def __process_sequence_ds(dataset, x_step, x_size, y_step, y_size, sample_size):\n",
    "    x_list, y_list = [], []\n",
    "    x_i, y_i = 0, 0\n",
    "    for i in range(sample_size):\n",
    "        x_f = x_i + (x_step * y_size)\n",
    "        x_f_real = x_i + (x_step * x_size)\n",
    "        x_data = dataset.isel(time=slice(x_i, x_f, x_step))\n",
    "        x_data = x_data.expand_dims(dim='sample', axis=0)\n",
    "        x_i = x_i + 1\n",
    "        y_i = x_f_real\n",
    "        y_f = y_i + (y_step * y_size)\n",
    "        y_data = dataset.isel(time=slice(y_i, y_f, y_step))\n",
    "        y_data = y_data.expand_dims(dim='sample', axis=0)\n",
    "        if y_data.time.size < y_size:\n",
    "            break\n",
    "        x_data = x_data.drop(labels='time')\n",
    "        x_list.append(x_data)\n",
    "        y_data = y_data.drop(labels='time')\n",
    "        y_list.append(y_data)\n",
    "\n",
    "    return x_list, y_list"
   ]
  },
  {
   "cell_type": "code",
   "execution_count": 77,
   "metadata": {},
   "outputs": [],
   "source": [
    "X_SIZE = 5 # size of the input sequence\n",
    "Y_SIZE = 40 # size of the output sequence\n",
    "X_STEP = 10  # how many steps away are each example in the input\n",
    "Y_STEP = 10  # how many steps away are each example in the output"
   ]
  },
  {
   "cell_type": "code",
   "execution_count": 78,
   "metadata": {},
   "outputs": [
    {
     "name": "stdout",
     "output_type": "stream",
     "text": [
      "Sample size:  36210\n",
      "CPU times: user 2min 51s, sys: 7.96 s, total: 2min 59s\n",
      "Wall time: 2min 55s\n"
     ]
    }
   ],
   "source": [
    "%%time\n",
    "\n",
    "input_data_u, target_data_u = create_sequence_ds(da_hr_u_interp, x_step = X_STEP, \n",
    "                                                 y_step = Y_STEP, y_size = Y_SIZE)"
   ]
  },
  {
   "cell_type": "code",
   "execution_count": 79,
   "metadata": {},
   "outputs": [],
   "source": [
    "ds_u = xr.Dataset({'x': input_data_u, 'y': target_data_u})"
   ]
  },
  {
   "cell_type": "code",
   "execution_count": 80,
   "metadata": {},
   "outputs": [
    {
     "data": {
      "text/plain": [
       "<xarray.Dataset>\n",
       "Dimensions:  (channel: 1, sample: 36210, time: 40, x_sw: 20, y_sw: 20)\n",
       "Coordinates:\n",
       "  * x_sw     (x_sw) float64 0.0 1e+05 2e+05 3e+05 ... 1.7e+06 1.8e+06 1.9e+06\n",
       "  * y_sw     (y_sw) float64 -1e+06 -9e+05 -8e+05 -7e+05 ... 7e+05 8e+05 9e+05\n",
       "Dimensions without coordinates: channel, sample, time\n",
       "Data variables:\n",
       "    x        (sample, time, y_sw, x_sw, channel) float64 dask.array<shape=(36210, 40, 20, 20, 1), chunksize=(1, 40, 20, 20, 1)>\n",
       "    y        (sample, time, y_sw, x_sw, channel) float64 dask.array<shape=(36210, 40, 20, 20, 1), chunksize=(1, 40, 20, 20, 1)>"
      ]
     },
     "execution_count": 80,
     "metadata": {},
     "output_type": "execute_result"
    }
   ],
   "source": [
    "ds_u = ds_u.transpose('sample', 'time', 'y_sw', 'x_sw', 'channel')\n",
    "ds_u"
   ]
  },
  {
   "cell_type": "code",
   "execution_count": 81,
   "metadata": {},
   "outputs": [
    {
     "name": "stdout",
     "output_type": "stream",
     "text": [
      "Sample size:  36210\n",
      "CPU times: user 2min 49s, sys: 5.21 s, total: 2min 54s\n",
      "Wall time: 2min 49s\n"
     ]
    }
   ],
   "source": [
    "%%time\n",
    "\n",
    "input_data_v, target_data_v = create_sequence_ds(da_hr_v_interp, x_step = X_STEP, \n",
    "                                                 y_step = Y_STEP, y_size = Y_SIZE)"
   ]
  },
  {
   "cell_type": "code",
   "execution_count": 82,
   "metadata": {},
   "outputs": [],
   "source": [
    "ds_v = xr.Dataset({'x': input_data_v, 'y': target_data_v})"
   ]
  },
  {
   "cell_type": "code",
   "execution_count": 83,
   "metadata": {},
   "outputs": [
    {
     "data": {
      "text/plain": [
       "<xarray.Dataset>\n",
       "Dimensions:  (channel: 1, sample: 36210, time: 40, x_sw: 20, y_sw: 20)\n",
       "Coordinates:\n",
       "  * x_sw     (x_sw) float64 0.0 1e+05 2e+05 3e+05 ... 1.7e+06 1.8e+06 1.9e+06\n",
       "  * y_sw     (y_sw) float64 -1e+06 -9e+05 -8e+05 -7e+05 ... 7e+05 8e+05 9e+05\n",
       "Dimensions without coordinates: channel, sample, time\n",
       "Data variables:\n",
       "    x        (sample, time, y_sw, x_sw, channel) float64 dask.array<shape=(36210, 40, 20, 20, 1), chunksize=(1, 40, 20, 20, 1)>\n",
       "    y        (sample, time, y_sw, x_sw, channel) float64 dask.array<shape=(36210, 40, 20, 20, 1), chunksize=(1, 40, 20, 20, 1)>"
      ]
     },
     "execution_count": 83,
     "metadata": {},
     "output_type": "execute_result"
    }
   ],
   "source": [
    "ds_v = ds_v.transpose('sample', 'time', 'y_sw', 'x_sw', 'channel')\n",
    "ds_v"
   ]
  },
  {
   "cell_type": "code",
   "execution_count": 84,
   "metadata": {},
   "outputs": [
    {
     "name": "stdout",
     "output_type": "stream",
     "text": [
      "Sample size:  36210\n",
      "CPU times: user 2min 41s, sys: 4.3 s, total: 2min 45s\n",
      "Wall time: 2min 38s\n"
     ]
    }
   ],
   "source": [
    "%%time\n",
    "\n",
    "input_data_eta, target_data_eta = create_sequence_ds(da_hr_eta_interp, x_step = X_STEP, \n",
    "                                                     y_step = Y_STEP, y_size = Y_SIZE)"
   ]
  },
  {
   "cell_type": "code",
   "execution_count": 85,
   "metadata": {},
   "outputs": [],
   "source": [
    "ds_eta = xr.Dataset({'x': input_data_eta, 'y': target_data_eta})"
   ]
  },
  {
   "cell_type": "code",
   "execution_count": 86,
   "metadata": {},
   "outputs": [
    {
     "data": {
      "text/plain": [
       "<xarray.Dataset>\n",
       "Dimensions:  (channel: 1, sample: 36210, time: 40, x_sw: 20, y_sw: 20)\n",
       "Coordinates:\n",
       "  * x_sw     (x_sw) float64 0.0 1e+05 2e+05 3e+05 ... 1.7e+06 1.8e+06 1.9e+06\n",
       "  * y_sw     (y_sw) float64 -1e+06 -9e+05 -8e+05 -7e+05 ... 7e+05 8e+05 9e+05\n",
       "Dimensions without coordinates: channel, sample, time\n",
       "Data variables:\n",
       "    x        (sample, time, y_sw, x_sw, channel) float64 dask.array<shape=(36210, 40, 20, 20, 1), chunksize=(1, 40, 20, 20, 1)>\n",
       "    y        (sample, time, y_sw, x_sw, channel) float64 dask.array<shape=(36210, 40, 20, 20, 1), chunksize=(1, 40, 20, 20, 1)>"
      ]
     },
     "execution_count": 86,
     "metadata": {},
     "output_type": "execute_result"
    }
   ],
   "source": [
    "ds_eta = ds_eta.transpose('sample', 'time', 'y_sw', 'x_sw', 'channel')\n",
    "ds_eta"
   ]
  },
  {
   "cell_type": "code",
   "execution_count": 87,
   "metadata": {},
   "outputs": [
    {
     "data": {
      "text/plain": [
       "<xarray.Dataset>\n",
       "Dimensions:  (channel: 3, sample: 36210, time: 40, x_sw: 20, y_sw: 20)\n",
       "Coordinates:\n",
       "  * x_sw     (x_sw) float64 0.0 1e+05 2e+05 3e+05 ... 1.7e+06 1.8e+06 1.9e+06\n",
       "  * y_sw     (y_sw) float64 -1e+06 -9e+05 -8e+05 -7e+05 ... 7e+05 8e+05 9e+05\n",
       "Dimensions without coordinates: channel, sample, time\n",
       "Data variables:\n",
       "    x        (sample, time, y_sw, x_sw, channel) float64 dask.array<shape=(36210, 40, 20, 20, 3), chunksize=(1, 40, 20, 20, 1)>\n",
       "    y        (sample, time, y_sw, x_sw, channel) float64 dask.array<shape=(36210, 40, 20, 20, 3), chunksize=(1, 40, 20, 20, 1)>"
      ]
     },
     "execution_count": 87,
     "metadata": {},
     "output_type": "execute_result"
    }
   ],
   "source": [
    "ds = xr.concat([ds_u, ds_v, ds_eta], 'channel')\n",
    "ds"
   ]
  },
  {
   "cell_type": "code",
   "execution_count": 88,
   "metadata": {},
   "outputs": [],
   "source": [
    "del(input_data_eta)\n",
    "del(target_data_eta)\n",
    "del(input_data_u)\n",
    "del(target_data_u)\n",
    "del(input_data_v)\n",
    "del(target_data_v)"
   ]
  },
  {
   "cell_type": "code",
   "execution_count": 89,
   "metadata": {},
   "outputs": [],
   "source": [
    "del(ds_u)\n",
    "del(ds_v)"
   ]
  },
  {
   "cell_type": "code",
   "execution_count": 90,
   "metadata": {},
   "outputs": [],
   "source": [
    "NEW_FILE_ETA = OUTPUT_FOLDER + '/dataset-shallow-water-eta-' + HIGH_RESOLUTION + 'km-yseq' + str(Y_SIZE) +'-ystep' + str(Y_STEP) + '.nc'\n",
    "NEW_FILE_U = OUTPUT_FOLDER + '/dataset-shallow-water-u-' + HIGH_RESOLUTION + 'km-yseq' + str(Y_SIZE) +'-ystep' + str(Y_STEP) + '.nc'\n",
    "NEW_FILE_V = OUTPUT_FOLDER + '/dataset-shallow-water-v-' + HIGH_RESOLUTION + 'km-yseq' + str(Y_SIZE) +'-ystep' + str(Y_STEP) + '.nc'\n",
    "NEW_FILE_3CH = OUTPUT_FOLDER + '/dataset-shallow-water-3ch-' + HIGH_RESOLUTION + 'km-yseq' + str(Y_SIZE) +'-ystep' + str(Y_STEP) + '.nc'"
   ]
  },
  {
   "cell_type": "code",
   "execution_count": 91,
   "metadata": {},
   "outputs": [
    {
     "name": "stdout",
     "output_type": "stream",
     "text": [
      "CPU times: user 3min 5s, sys: 48.2 s, total: 3min 54s\n",
      "Wall time: 2min 55s\n"
     ]
    }
   ],
   "source": [
    "%%time\n",
    "ds_eta.to_netcdf(NEW_FILE_ETA)"
   ]
  },
  {
   "cell_type": "code",
   "execution_count": 32,
   "metadata": {},
   "outputs": [
    {
     "name": "stdout",
     "output_type": "stream",
     "text": [
      "CPU times: user 8min 37s, sys: 2min 23s, total: 11min 1s\n",
      "Wall time: 8min 6s\n"
     ]
    }
   ],
   "source": [
    "%%time\n",
    "ds.to_netcdf(NEW_FILE_3CH)"
   ]
  },
  {
   "cell_type": "markdown",
   "metadata": {},
   "source": [
    "### Testing Pre-Processing"
   ]
  },
  {
   "cell_type": "code",
   "execution_count": null,
   "metadata": {},
   "outputs": [],
   "source": [
    "ds_eta.x[100, 1, :, :, 0].values == da_hr_eta_interp[:, :, 110].values"
   ]
  },
  {
   "cell_type": "code",
   "execution_count": null,
   "metadata": {},
   "outputs": [],
   "source": [
    "ds_eta.x"
   ]
  },
  {
   "cell_type": "code",
   "execution_count": null,
   "metadata": {},
   "outputs": [],
   "source": [
    "ds_eta.x[0, 5, :, :, 0].values == da_hr_eta_interp[:, :, 50].values"
   ]
  },
  {
   "cell_type": "code",
   "execution_count": null,
   "metadata": {},
   "outputs": [],
   "source": [
    "ds_eta.y[0, 0, :, :, 0].values == da_hr_eta_interp[:, :, X_SIZE*X_STEP].values"
   ]
  },
  {
   "cell_type": "code",
   "execution_count": null,
   "metadata": {},
   "outputs": [],
   "source": [
    "ds_eta.x[50, 0, :, :, 0].values == ds_eta.y[0, 0, :, :, 0].values"
   ]
  },
  {
   "cell_type": "code",
   "execution_count": null,
   "metadata": {},
   "outputs": [],
   "source": []
  },
  {
   "cell_type": "code",
   "execution_count": 55,
   "metadata": {},
   "outputs": [
    {
     "data": {
      "text/plain": [
       "array(707.10678119)"
      ]
     },
     "execution_count": 55,
     "metadata": {},
     "output_type": "execute_result"
    }
   ],
   "source": [
    "da_hr_eta_interp.time[10].values"
   ]
  },
  {
   "cell_type": "code",
   "execution_count": 53,
   "metadata": {},
   "outputs": [
    {
     "data": {
      "text/plain": [
       "array(353.55339059)"
      ]
     },
     "execution_count": 53,
     "metadata": {},
     "output_type": "execute_result"
    }
   ],
   "source": [
    "ds_lr_eta.time[1].values"
   ]
  },
  {
   "cell_type": "code",
   "execution_count": 127,
   "metadata": {},
   "outputs": [
    {
     "data": {
      "text/plain": [
       "<xarray.DataArray 'v' (y_sw: 20, x_sw: 20, time: 36656)>\n",
       "dask.array<shape=(20, 20, 36656), dtype=float64, chunksize=(20, 20, 36656)>\n",
       "Coordinates:\n",
       "  * time     (time) float64 0.0 70.71 141.4 ... 2.592e+06 2.592e+06 2.592e+06\n",
       "  * x_sw     (x_sw) float64 0.0 1e+05 2e+05 3e+05 ... 1.7e+06 1.8e+06 1.9e+06\n",
       "  * y_sw     (y_sw) float64 -1e+06 -9e+05 -8e+05 -7e+05 ... 7e+05 8e+05 9e+05"
      ]
     },
     "execution_count": 127,
     "metadata": {},
     "output_type": "execute_result"
    }
   ],
   "source": []
  },
  {
   "cell_type": "code",
   "execution_count": 115,
   "metadata": {},
   "outputs": [
    {
     "data": {
      "text/plain": [
       "(36210, 40, 20, 20, 1)"
      ]
     },
     "execution_count": 115,
     "metadata": {},
     "output_type": "execute_result"
    }
   ],
   "source": [
    "ds_eta.x.shape"
   ]
  },
  {
   "cell_type": "code",
   "execution_count": 119,
   "metadata": {},
   "outputs": [],
   "source": [
    "eta_x = ds_eta.x[:int(ds_eta.x.shape[0]*0.8),0,:,:,0]"
   ]
  },
  {
   "cell_type": "code",
   "execution_count": 123,
   "metadata": {},
   "outputs": [],
   "source": [
    "eta_x = eta_x.values"
   ]
  },
  {
   "cell_type": "code",
   "execution_count": 130,
   "metadata": {},
   "outputs": [],
   "source": [
    "u_x = da_hr_u_interp[:,:,:int(ds_eta.x.shape[0]*0.8)]\n",
    "u_x = u_x.values"
   ]
  },
  {
   "cell_type": "code",
   "execution_count": 131,
   "metadata": {},
   "outputs": [],
   "source": [
    "v_x = da_hr_v_interp[:,:,:int(ds_eta.x.shape[0]*0.8)]\n",
    "v_x = v_x.values"
   ]
  },
  {
   "cell_type": "code",
   "execution_count": 132,
   "metadata": {},
   "outputs": [
    {
     "data": {
      "text/plain": [
       "((28968, 20, 20), (20, 20, 28968), (20, 20, 28968))"
      ]
     },
     "execution_count": 132,
     "metadata": {},
     "output_type": "execute_result"
    }
   ],
   "source": [
    "eta_x.shape, u_x.shape, v_x.shape"
   ]
  },
  {
   "cell_type": "code",
   "execution_count": 151,
   "metadata": {},
   "outputs": [
    {
     "data": {
      "text/plain": [
       "(0.0356954, 0.0149027)"
      ]
     },
     "execution_count": 151,
     "metadata": {},
     "output_type": "execute_result"
    }
   ],
   "source": [
    "round(np.mean(eta_x),7), round(np.std(eta_x),7)"
   ]
  },
  {
   "cell_type": "code",
   "execution_count": 152,
   "metadata": {},
   "outputs": [
    {
     "data": {
      "text/plain": [
       "(8.81e-05, 0.0262014)"
      ]
     },
     "execution_count": 152,
     "metadata": {},
     "output_type": "execute_result"
    }
   ],
   "source": [
    "round(np.mean(u_x),7), round(np.std(u_x),7)"
   ]
  },
  {
   "cell_type": "code",
   "execution_count": 153,
   "metadata": {},
   "outputs": [
    {
     "data": {
      "text/plain": [
       "(-5.52e-05, 0.0199742)"
      ]
     },
     "execution_count": 153,
     "metadata": {},
     "output_type": "execute_result"
    }
   ],
   "source": [
    "round(np.mean(v_x), 7), round(np.std(v_x), 7)"
   ]
  },
  {
   "cell_type": "code",
   "execution_count": 156,
   "metadata": {},
   "outputs": [],
   "source": [
    "means = [0.035695, 0.000088, -0.000055]\n",
    "stds = [0.014903, 0.026202, 0.019974]"
   ]
  },
  {
   "cell_type": "code",
   "execution_count": 162,
   "metadata": {},
   "outputs": [],
   "source": [
    "import torchvision.transforms as transforms\n",
    "import torch"
   ]
  },
  {
   "cell_type": "code",
   "execution_count": 165,
   "metadata": {},
   "outputs": [],
   "source": [
    "data = xr.open_mfdataset('/home/guinelli/mestrado/stconvs2s/data/dataset-shallow-water-3ch-20.0km-yseq20-ystep10.nc')"
   ]
  },
  {
   "cell_type": "code",
   "execution_count": 166,
   "metadata": {},
   "outputs": [],
   "source": [
    "x = torch.from_numpy(data.x.values).float().permute(0, 4, 1, 2, 3)"
   ]
  },
  {
   "cell_type": "code",
   "execution_count": 176,
   "metadata": {},
   "outputs": [],
   "source": [
    "x2 = transforms.Normalize(means, stds)(x[0,:,0])"
   ]
  },
  {
   "cell_type": "code",
   "execution_count": 192,
   "metadata": {},
   "outputs": [],
   "source": [
    "data = []\n",
    "for i in range(x.shape[2]):\n",
    "    data.append(transforms.Normalize(means, stds)(x[0,:,i,:,:]))"
   ]
  },
  {
   "cell_type": "code",
   "execution_count": 194,
   "metadata": {},
   "outputs": [
    {
     "data": {
      "text/plain": [
       "torch.Size([3, 20, 20, 20])"
      ]
     },
     "execution_count": 194,
     "metadata": {},
     "output_type": "execute_result"
    }
   ],
   "source": [
    "torch.stack(data,dim=1).shape"
   ]
  },
  {
   "cell_type": "code",
   "execution_count": null,
   "metadata": {},
   "outputs": [],
   "source": []
  }
 ],
 "metadata": {
  "kernelspec": {
   "display_name": "pytorch",
   "language": "python",
   "name": "pytorch"
  },
  "language_info": {
   "codemirror_mode": {
    "name": "ipython",
    "version": 3
   },
   "file_extension": ".py",
   "mimetype": "text/x-python",
   "name": "python",
   "nbconvert_exporter": "python",
   "pygments_lexer": "ipython3",
   "version": "3.6.7"
  }
 },
 "nbformat": 4,
 "nbformat_minor": 2
}
