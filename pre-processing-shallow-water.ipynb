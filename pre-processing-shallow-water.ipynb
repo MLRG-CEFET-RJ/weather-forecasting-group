{
 "cells": [
  {
   "cell_type": "code",
   "execution_count": 1,
   "metadata": {},
   "outputs": [],
   "source": [
    "import warnings\n",
    "warnings.filterwarnings(\"ignore\")"
   ]
  },
  {
   "cell_type": "code",
   "execution_count": 2,
   "metadata": {},
   "outputs": [],
   "source": [
    "import xarray as xr\n",
    "import cartopy.crs as ccrs\n",
    "import cartopy.feature as cfeature\n",
    "import matplotlib.pyplot as plt\n",
    "import numpy as np\n",
    "import glob\n",
    "%matplotlib inline"
   ]
  },
  {
   "cell_type": "code",
   "execution_count": 3,
   "metadata": {},
   "outputs": [],
   "source": [
    "DATA_FOLDER = './data'\n",
    "OUTPUT_FOLDER = './output'"
   ]
  },
  {
   "cell_type": "code",
   "execution_count": 4,
   "metadata": {},
   "outputs": [],
   "source": [
    "HIGH_RESOLUTION = '20.0'\n",
    "LOW_RESOLUTION = '100.0'"
   ]
  },
  {
   "cell_type": "code",
   "execution_count": 5,
   "metadata": {
    "scrolled": true
   },
   "outputs": [],
   "source": [
    "NETCFD_LR_FILE_ETA = DATA_FOLDER + '/eta_eulerian_resolution_' + LOW_RESOLUTION + 'km.nc'\n",
    "NETCFD_LR_FILE_U = DATA_FOLDER + '/u_eulerian_resolution_' + LOW_RESOLUTION + 'km.nc'\n",
    "NETCFD_LR_FILE_V = DATA_FOLDER + '/v_eulerian_resolution_' + LOW_RESOLUTION + 'km.nc'"
   ]
  },
  {
   "cell_type": "code",
   "execution_count": 6,
   "metadata": {},
   "outputs": [],
   "source": [
    "NETCFD_HR_FILE_ETA = DATA_FOLDER + '/eta_eulerian_resolution_' + HIGH_RESOLUTION + 'km.nc'\n",
    "NETCFD_HR_FILE_U = DATA_FOLDER + '/u_eulerian_resolution_' + HIGH_RESOLUTION + 'km.nc'\n",
    "NETCFD_HR_FILE_V = DATA_FOLDER + '/v_eulerian_resolution_' + HIGH_RESOLUTION + 'km.nc'"
   ]
  },
  {
   "cell_type": "code",
   "execution_count": 7,
   "metadata": {},
   "outputs": [],
   "source": [
    "ds_lr_u = xr.open_mfdataset(NETCFD_LR_FILE_U)\n",
    "ds_lr_v = xr.open_mfdataset(NETCFD_LR_FILE_V)\n",
    "ds_lr_eta = xr.open_mfdataset(NETCFD_LR_FILE_ETA)"
   ]
  },
  {
   "cell_type": "code",
   "execution_count": 8,
   "metadata": {},
   "outputs": [],
   "source": [
    "ds_hr_u = xr.open_mfdataset(NETCFD_HR_FILE_U)\n",
    "ds_hr_v = xr.open_mfdataset(NETCFD_HR_FILE_V)\n",
    "ds_hr_eta = xr.open_mfdataset(NETCFD_HR_FILE_ETA)"
   ]
  },
  {
   "cell_type": "code",
   "execution_count": 9,
   "metadata": {},
   "outputs": [],
   "source": [
    "ds_lr_u = ds_lr_u.rename({'x':'x_sw', 'y':'y_sw','__xarray_dataarray_variable__':'u'})\n",
    "ds_lr_v = ds_lr_v.rename({'x':'x_sw', 'y':'y_sw','__xarray_dataarray_variable__':'v'})\n",
    "ds_lr_eta = ds_lr_eta.rename({'x':'x_sw', 'y':'y_sw','__xarray_dataarray_variable__':'eta'})"
   ]
  },
  {
   "cell_type": "code",
   "execution_count": 10,
   "metadata": {},
   "outputs": [],
   "source": [
    "ds_hr_u = ds_hr_u.rename({'x':'x_sw', 'y':'y_sw','__xarray_dataarray_variable__':'u'})\n",
    "ds_hr_v = ds_hr_v.rename({'x':'x_sw', 'y':'y_sw','__xarray_dataarray_variable__':'v'})\n",
    "ds_hr_eta = ds_hr_eta.rename({'x':'x_sw', 'y':'y_sw','__xarray_dataarray_variable__':'eta'})"
   ]
  },
  {
   "cell_type": "markdown",
   "metadata": {},
   "source": [
    "### Interpolation"
   ]
  },
  {
   "cell_type": "code",
   "execution_count": 11,
   "metadata": {},
   "outputs": [],
   "source": [
    "da_hr_eta_interp = ds_hr_eta.interp(x_sw=ds_lr_eta.x_sw, y_sw=ds_lr_eta.y_sw, method='linear').eta"
   ]
  },
  {
   "cell_type": "code",
   "execution_count": 12,
   "metadata": {},
   "outputs": [],
   "source": [
    "da_hr_u_interp = ds_hr_u.interp(x_sw=da_hr_eta_interp.x_sw, y_sw=da_hr_eta_interp.y_sw, method='linear').u\n",
    "da_hr_v_interp = ds_hr_v.interp(x_sw=da_hr_eta_interp.x_sw, y_sw=da_hr_eta_interp.y_sw, method='linear').v"
   ]
  },
  {
   "cell_type": "code",
   "execution_count": 13,
   "metadata": {},
   "outputs": [
    {
     "data": {
      "text/plain": [
       "<xarray.DataArray 'u' (y_sw: 20, x_sw: 20, time: 36656)>\n",
       "dask.array<shape=(20, 20, 36656), dtype=float64, chunksize=(20, 20, 36656)>\n",
       "Coordinates:\n",
       "  * time     (time) float64 0.0 70.71 141.4 ... 2.592e+06 2.592e+06 2.592e+06\n",
       "  * x_sw     (x_sw) float64 0.0 1e+05 2e+05 3e+05 ... 1.7e+06 1.8e+06 1.9e+06\n",
       "  * y_sw     (y_sw) float64 -1e+06 -9e+05 -8e+05 -7e+05 ... 7e+05 8e+05 9e+05"
      ]
     },
     "execution_count": 13,
     "metadata": {},
     "output_type": "execute_result"
    }
   ],
   "source": [
    "da_hr_u_interp"
   ]
  },
  {
   "cell_type": "code",
   "execution_count": 14,
   "metadata": {},
   "outputs": [
    {
     "data": {
      "text/plain": [
       "<xarray.DataArray 'v' (y_sw: 20, x_sw: 20, time: 36656)>\n",
       "dask.array<shape=(20, 20, 36656), dtype=float64, chunksize=(20, 20, 36656)>\n",
       "Coordinates:\n",
       "  * time     (time) float64 0.0 70.71 141.4 ... 2.592e+06 2.592e+06 2.592e+06\n",
       "  * x_sw     (x_sw) float64 0.0 1e+05 2e+05 3e+05 ... 1.7e+06 1.8e+06 1.9e+06\n",
       "  * y_sw     (y_sw) float64 -1e+06 -9e+05 -8e+05 -7e+05 ... 7e+05 8e+05 9e+05"
      ]
     },
     "execution_count": 14,
     "metadata": {},
     "output_type": "execute_result"
    }
   ],
   "source": [
    "da_hr_v_interp"
   ]
  },
  {
   "cell_type": "code",
   "execution_count": 15,
   "metadata": {},
   "outputs": [
    {
     "data": {
      "text/plain": [
       "<xarray.DataArray 'eta' (y_sw: 20, x_sw: 20, time: 36656)>\n",
       "dask.array<shape=(20, 20, 36656), dtype=float64, chunksize=(20, 20, 36656)>\n",
       "Coordinates:\n",
       "  * time     (time) float64 0.0 70.71 141.4 ... 2.592e+06 2.592e+06 2.592e+06\n",
       "  * x_sw     (x_sw) float64 0.0 1e+05 2e+05 3e+05 ... 1.7e+06 1.8e+06 1.9e+06\n",
       "  * y_sw     (y_sw) float64 -1e+06 -9e+05 -8e+05 -7e+05 ... 7e+05 8e+05 9e+05"
      ]
     },
     "execution_count": 15,
     "metadata": {},
     "output_type": "execute_result"
    }
   ],
   "source": [
    "da_hr_eta_interp"
   ]
  },
  {
   "cell_type": "markdown",
   "metadata": {},
   "source": [
    "### Dataset Generation"
   ]
  },
  {
   "cell_type": "code",
   "execution_count": 16,
   "metadata": {},
   "outputs": [],
   "source": [
    "def create_sequence_ds(dataset, x_step=1, x_size=5, y_step=1, y_size=5):\n",
    "    time_size = dataset.time.size\n",
    "    one_sample_size = ((x_size * x_step) + (y_size * y_step)) - (x_size - 1)\n",
    "    sample_size = time_size - one_sample_size\n",
    "    x_list, y_list = __process_sequence_ds(dataset, x_step, x_size, y_step, y_size, sample_size)\n",
    "    x_data = xr.concat(x_list, dim='sample')\n",
    "    x_data = x_data.expand_dims(dim='channel', axis=-1)\n",
    "    y_data = xr.concat(y_list, dim='sample')\n",
    "    y_data = y_data.expand_dims(dim='channel', axis=-1)\n",
    "    \n",
    "    print('Sample size: ', x_data.sample.size)\n",
    "    \n",
    "    return x_data, y_data\n",
    "\n",
    "def __process_sequence_ds(dataset, x_step, x_size, y_step, y_size, sample_size):\n",
    "    x_list, y_list = [], []\n",
    "    x_i, y_i = 0, 0\n",
    "    for i in range(sample_size):\n",
    "        x_f = x_i + (x_step * y_size) # WHEN X_STEP IS SMALLER THAN Y_STEP\n",
    "        x_f_real = x_i + (x_step * x_size)\n",
    "        x_data = dataset.isel(time=slice(x_i, x_f, x_step))\n",
    "        x_data = x_data.expand_dims(dim='sample', axis=0)\n",
    "        x_i = x_i + 1\n",
    "        y_i = x_f_real\n",
    "        y_f = y_i + (y_step * y_size)\n",
    "        y_data = dataset.isel(time=slice(y_i, y_f, y_step))\n",
    "        y_data = y_data.expand_dims(dim='sample', axis=0)\n",
    "        if y_data.time.size < y_size:\n",
    "            break\n",
    "        x_data = x_data.drop(labels='time')\n",
    "        x_list.append(x_data)\n",
    "        y_data = y_data.drop(labels='time')\n",
    "        y_list.append(y_data)\n",
    "\n",
    "    return x_list, y_list"
   ]
  },
  {
   "cell_type": "code",
   "execution_count": null,
   "metadata": {},
   "outputs": [],
   "source": []
  },
  {
   "cell_type": "markdown",
   "metadata": {},
   "source": [
    "### Generate \"eta\" datasets with fixed time step and diferent input-output size"
   ]
  },
  {
   "cell_type": "code",
   "execution_count": null,
   "metadata": {},
   "outputs": [],
   "source": [
    "for i in range(1, 21):\n",
    "    X_SIZE, Y_SIZE = i, i\n",
    "    X_STEP, Y_STEP = 10, 10\n",
    "    \n",
    "    print(X_STEP, Y_STEP)\n",
    "    \n",
    "    input_data_eta, target_data_eta = create_sequence_ds(da_hr_eta_interp, x_step = X_STEP, \n",
    "                                                         y_step = Y_STEP, x_size = X_SIZE, y_size = Y_SIZE)\n",
    "    \n",
    "    ds_eta = xr.Dataset({'x': input_data_eta, 'y': target_data_eta})\n",
    "\n",
    "    ds_eta = ds_eta.transpose('sample', 'time', 'y_sw', 'x_sw', 'channel')\n",
    "\n",
    "    NEW_FILE_ETA = OUTPUT_FOLDER + '/dataset-shallow-water-eta-' + HIGH_RESOLUTION + 'km-xseq' + str(X_SIZE) + '-yseq' + str(Y_SIZE) +'-ystep' + str(Y_STEP) + '.nc'\n",
    "    \n",
    "    ds_eta.to_netcdf(NEW_FILE_ETA)\n",
    "    \n",
    "    print(f\"File {NEW_FILE_ETA} saved!\")"
   ]
  },
  {
   "cell_type": "code",
   "execution_count": null,
   "metadata": {},
   "outputs": [],
   "source": []
  },
  {
   "cell_type": "markdown",
   "metadata": {},
   "source": [
    "### Generate \"eta\" datasets with fixed input-output size diferent time steps "
   ]
  },
  {
   "cell_type": "code",
   "execution_count": null,
   "metadata": {
    "scrolled": true
   },
   "outputs": [],
   "source": [
    "for i in range(10, 101, 10):\n",
    "    X_SIZE, Y_SIZE = 5, 20\n",
    "    X_STEP, Y_STEP = i, i\n",
    "    \n",
    "    print(X_STEP, Y_STEP)\n",
    "    \n",
    "    input_data_eta, target_data_eta = create_sequence_ds(da_hr_eta_interp, x_step = X_STEP, \n",
    "                                                         y_step = Y_STEP, x_size = X_SIZE, y_size = Y_SIZE)\n",
    "    \n",
    "    ds_eta = xr.Dataset({'x': input_data_eta, 'y': target_data_eta})\n",
    "\n",
    "    ds_eta = ds_eta.transpose('sample', 'time', 'y_sw', 'x_sw', 'channel')\n",
    "\n",
    "    NEW_FILE_ETA = OUTPUT_FOLDER + '/dataset-shallow-water-eta-' + HIGH_RESOLUTION + 'km-xseq' + str(X_SIZE) + '-yseq' + str(Y_SIZE) +'-ystep' + str(Y_STEP) + '.nc'\n",
    "    \n",
    "    ds_eta.to_netcdf(NEW_FILE_ETA)\n",
    "    \n",
    "    print(f\"File {NEW_FILE_ETA} saved!\")"
   ]
  },
  {
   "cell_type": "code",
   "execution_count": null,
   "metadata": {},
   "outputs": [],
   "source": []
  },
  {
   "cell_type": "markdown",
   "metadata": {},
   "source": [
    "### Generate 3 channel dataset (eta, u, v )"
   ]
  },
  {
   "cell_type": "code",
   "execution_count": 17,
   "metadata": {},
   "outputs": [],
   "source": [
    "X_SIZE = 5 # size of the input sequence\n",
    "Y_SIZE = 20 # size of the output sequence\n",
    "X_STEP = 10  # how many steps away are each example in the input\n",
    "Y_STEP = 10  # how many steps away are each example in the output"
   ]
  },
  {
   "cell_type": "code",
   "execution_count": null,
   "metadata": {},
   "outputs": [],
   "source": []
  },
  {
   "cell_type": "code",
   "execution_count": 19,
   "metadata": {},
   "outputs": [
    {
     "name": "stdout",
     "output_type": "stream",
     "text": [
      "Sample size:  36410\n",
      "CPU times: user 2min 30s, sys: 2.58 s, total: 2min 33s\n",
      "Wall time: 2min 30s\n"
     ]
    }
   ],
   "source": [
    "%%time\n",
    "input_data_eta, target_data_eta = create_sequence_ds(da_hr_eta_interp, x_step = X_STEP, \n",
    "                                                     y_step = Y_STEP, x_size = X_SIZE, y_size = Y_SIZE)"
   ]
  },
  {
   "cell_type": "code",
   "execution_count": 20,
   "metadata": {},
   "outputs": [],
   "source": [
    "ds_eta = xr.Dataset({'x': input_data_eta, 'y': target_data_eta})"
   ]
  },
  {
   "cell_type": "code",
   "execution_count": 21,
   "metadata": {},
   "outputs": [
    {
     "data": {
      "text/plain": [
       "<xarray.Dataset>\n",
       "Dimensions:  (channel: 1, sample: 36410, time: 20, x_sw: 20, y_sw: 20)\n",
       "Coordinates:\n",
       "  * x_sw     (x_sw) float64 0.0 1e+05 2e+05 3e+05 ... 1.7e+06 1.8e+06 1.9e+06\n",
       "  * y_sw     (y_sw) float64 -1e+06 -9e+05 -8e+05 -7e+05 ... 7e+05 8e+05 9e+05\n",
       "Dimensions without coordinates: channel, sample, time\n",
       "Data variables:\n",
       "    x        (sample, time, y_sw, x_sw, channel) float64 dask.array<shape=(36410, 20, 20, 20, 1), chunksize=(1, 20, 20, 20, 1)>\n",
       "    y        (sample, time, y_sw, x_sw, channel) float64 dask.array<shape=(36410, 20, 20, 20, 1), chunksize=(1, 20, 20, 20, 1)>"
      ]
     },
     "execution_count": 21,
     "metadata": {},
     "output_type": "execute_result"
    }
   ],
   "source": [
    "ds_eta = ds_eta.transpose('sample', 'time', 'y_sw', 'x_sw', 'channel')\n",
    "ds_eta"
   ]
  },
  {
   "cell_type": "code",
   "execution_count": null,
   "metadata": {},
   "outputs": [],
   "source": []
  },
  {
   "cell_type": "code",
   "execution_count": 22,
   "metadata": {},
   "outputs": [
    {
     "name": "stdout",
     "output_type": "stream",
     "text": [
      "Sample size:  36410\n",
      "CPU times: user 2min 38s, sys: 2.84 s, total: 2min 40s\n",
      "Wall time: 2min 36s\n"
     ]
    }
   ],
   "source": [
    "%%time\n",
    "input_data_u, target_data_u = create_sequence_ds(da_hr_u_interp, x_step = X_STEP, \n",
    "                                                 y_step = Y_STEP, y_size = Y_SIZE)"
   ]
  },
  {
   "cell_type": "code",
   "execution_count": 23,
   "metadata": {},
   "outputs": [],
   "source": [
    "ds_u = xr.Dataset({'x': input_data_u, 'y': target_data_u})"
   ]
  },
  {
   "cell_type": "code",
   "execution_count": 24,
   "metadata": {},
   "outputs": [
    {
     "data": {
      "text/plain": [
       "<xarray.Dataset>\n",
       "Dimensions:  (channel: 1, sample: 36410, time: 20, x_sw: 20, y_sw: 20)\n",
       "Coordinates:\n",
       "  * x_sw     (x_sw) float64 0.0 1e+05 2e+05 3e+05 ... 1.7e+06 1.8e+06 1.9e+06\n",
       "  * y_sw     (y_sw) float64 -1e+06 -9e+05 -8e+05 -7e+05 ... 7e+05 8e+05 9e+05\n",
       "Dimensions without coordinates: channel, sample, time\n",
       "Data variables:\n",
       "    x        (sample, time, y_sw, x_sw, channel) float64 dask.array<shape=(36410, 20, 20, 20, 1), chunksize=(1, 20, 20, 20, 1)>\n",
       "    y        (sample, time, y_sw, x_sw, channel) float64 dask.array<shape=(36410, 20, 20, 20, 1), chunksize=(1, 20, 20, 20, 1)>"
      ]
     },
     "execution_count": 24,
     "metadata": {},
     "output_type": "execute_result"
    }
   ],
   "source": [
    "ds_u = ds_u.transpose('sample', 'time', 'y_sw', 'x_sw', 'channel')\n",
    "ds_u"
   ]
  },
  {
   "cell_type": "code",
   "execution_count": null,
   "metadata": {},
   "outputs": [],
   "source": []
  },
  {
   "cell_type": "code",
   "execution_count": 25,
   "metadata": {},
   "outputs": [
    {
     "name": "stdout",
     "output_type": "stream",
     "text": [
      "Sample size:  36410\n",
      "CPU times: user 2min 39s, sys: 3.17 s, total: 2min 42s\n",
      "Wall time: 2min 37s\n"
     ]
    }
   ],
   "source": [
    "%%time\n",
    "input_data_v, target_data_v = create_sequence_ds(da_hr_v_interp, x_step = X_STEP, \n",
    "                                                 y_step = Y_STEP, y_size = Y_SIZE)"
   ]
  },
  {
   "cell_type": "code",
   "execution_count": 26,
   "metadata": {},
   "outputs": [],
   "source": [
    "ds_v = xr.Dataset({'x': input_data_v, 'y': target_data_v})"
   ]
  },
  {
   "cell_type": "code",
   "execution_count": 27,
   "metadata": {},
   "outputs": [
    {
     "data": {
      "text/plain": [
       "<xarray.Dataset>\n",
       "Dimensions:  (channel: 1, sample: 36410, time: 20, x_sw: 20, y_sw: 20)\n",
       "Coordinates:\n",
       "  * x_sw     (x_sw) float64 0.0 1e+05 2e+05 3e+05 ... 1.7e+06 1.8e+06 1.9e+06\n",
       "  * y_sw     (y_sw) float64 -1e+06 -9e+05 -8e+05 -7e+05 ... 7e+05 8e+05 9e+05\n",
       "Dimensions without coordinates: channel, sample, time\n",
       "Data variables:\n",
       "    x        (sample, time, y_sw, x_sw, channel) float64 dask.array<shape=(36410, 20, 20, 20, 1), chunksize=(1, 20, 20, 20, 1)>\n",
       "    y        (sample, time, y_sw, x_sw, channel) float64 dask.array<shape=(36410, 20, 20, 20, 1), chunksize=(1, 20, 20, 20, 1)>"
      ]
     },
     "execution_count": 27,
     "metadata": {},
     "output_type": "execute_result"
    }
   ],
   "source": [
    "ds_v = ds_v.transpose('sample', 'time', 'y_sw', 'x_sw', 'channel')\n",
    "ds_v"
   ]
  },
  {
   "cell_type": "code",
   "execution_count": null,
   "metadata": {},
   "outputs": [],
   "source": []
  },
  {
   "cell_type": "code",
   "execution_count": 28,
   "metadata": {},
   "outputs": [],
   "source": [
    "ds = [ds_u, ds_v, ds_eta]"
   ]
  },
  {
   "cell_type": "code",
   "execution_count": 29,
   "metadata": {},
   "outputs": [],
   "source": [
    "NEW_FILE_3CH = OUTPUT_FOLDER + '/dataset-shallow-water-3ch-' + HIGH_RESOLUTION + 'km-xseq' + str(X_SIZE) + '-yseq' + str(Y_SIZE) +'-ystep' + str(Y_STEP) + '.nc'"
   ]
  },
  {
   "cell_type": "code",
   "execution_count": null,
   "metadata": {},
   "outputs": [],
   "source": []
  },
  {
   "cell_type": "code",
   "execution_count": 30,
   "metadata": {},
   "outputs": [
    {
     "ename": "AttributeError",
     "evalue": "'list' object has no attribute 'to_netcdf'",
     "output_type": "error",
     "traceback": [
      "\u001b[0;31m---------------------------------------------------------------------------\u001b[0m",
      "\u001b[0;31mAttributeError\u001b[0m                            Traceback (most recent call last)",
      "\u001b[0;32m<timed eval>\u001b[0m in \u001b[0;36m<module>\u001b[0;34m\u001b[0m\n",
      "\u001b[0;31mAttributeError\u001b[0m: 'list' object has no attribute 'to_netcdf'"
     ]
    }
   ],
   "source": [
    "%%time\n",
    "ds.to_netcdf(NEW_FILE_3CH)"
   ]
  },
  {
   "cell_type": "code",
   "execution_count": null,
   "metadata": {},
   "outputs": [],
   "source": []
  }
 ],
 "metadata": {
  "kernelspec": {
   "display_name": "pytorch",
   "language": "python",
   "name": "pytorch"
  },
  "language_info": {
   "codemirror_mode": {
    "name": "ipython",
    "version": 3
   },
   "file_extension": ".py",
   "mimetype": "text/x-python",
   "name": "python",
   "nbconvert_exporter": "python",
   "pygments_lexer": "ipython3",
   "version": "3.6.7"
  }
 },
 "nbformat": 4,
 "nbformat_minor": 2
}
