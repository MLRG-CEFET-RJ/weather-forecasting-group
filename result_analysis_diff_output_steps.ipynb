{
 "cells": [
  {
   "cell_type": "code",
   "execution_count": 1,
   "metadata": {},
   "outputs": [],
   "source": [
    "import warnings\n",
    "warnings.filterwarnings(\"ignore\")"
   ]
  },
  {
   "cell_type": "code",
   "execution_count": 2,
   "metadata": {},
   "outputs": [],
   "source": [
    "import os\n",
    "import torch\n",
    "import torch.nn.functional as F\n",
    "from torch.utils.data import DataLoader\n",
    "from matplotlib import pyplot as plt\n",
    "from matplotlib import animation\n",
    "import numpy as np\n",
    "import xarray as xr\n",
    "from IPython.display import HTML\n",
    "import math\n",
    "\n",
    "from tool.dataset import NetCDFDataset\n",
    "from tool.loss import RMSELoss\n",
    "from tool.utils import Util, ImgUtil\n",
    "\n",
    "from model.stconvs2s import STConvS2S_R"
   ]
  },
  {
   "cell_type": "markdown",
   "metadata": {},
   "source": [
    "## Loading Data With Different Resolutions"
   ]
  },
  {
   "cell_type": "code",
   "execution_count": 3,
   "metadata": {},
   "outputs": [],
   "source": [
    "file_hr = './data/eta_eulerian_resolution_20.0km.nc'\n",
    "file_lr = './data/eta_eulerian_resolution_100.0km.nc'"
   ]
  },
  {
   "cell_type": "code",
   "execution_count": 4,
   "metadata": {},
   "outputs": [],
   "source": [
    "# loading outputs from shallow water model and transposing dimensions\n",
    "ds_hr = xr.open_mfdataset(file_hr).transpose('time', 'y', 'x')\n",
    "ds_lr = xr.open_mfdataset(file_lr).transpose('time', 'y', 'x')"
   ]
  },
  {
   "cell_type": "code",
   "execution_count": 5,
   "metadata": {},
   "outputs": [],
   "source": [
    "da_hr = ds_hr.rename({'__xarray_dataarray_variable__':'eta'}).eta\n",
    "da_lr = ds_lr.rename({'__xarray_dataarray_variable__':'eta'}).eta"
   ]
  },
  {
   "cell_type": "code",
   "execution_count": 6,
   "metadata": {},
   "outputs": [],
   "source": [
    "# interpolation - from 100x100 to 20x20\n",
    "da_hr_interp = da_hr.interp(y=da_lr.y, x=da_lr.x, method='linear')\n",
    "da_hr_interp_v = da_hr_interp.values"
   ]
  },
  {
   "cell_type": "code",
   "execution_count": 7,
   "metadata": {},
   "outputs": [],
   "source": [
    "# filtering only time steps present in coarse resolution\n",
    "da_hr_interp_subset = da_hr_interp.isel(time=slice(0, da_hr_interp.time.size - 1, 5))"
   ]
  },
  {
   "cell_type": "code",
   "execution_count": 8,
   "metadata": {},
   "outputs": [],
   "source": [
    "da_lr_v = da_lr.values\n",
    "da_hr_interp_subset_v = da_hr_interp_subset.values"
   ]
  },
  {
   "cell_type": "code",
   "execution_count": 9,
   "metadata": {},
   "outputs": [
    {
     "data": {
      "text/plain": [
       "<xarray.DataArray 'eta' (time: 7331, y: 20, x: 20)>\n",
       "dask.array<shape=(7331, 20, 20), dtype=float64, chunksize=(7331, 20, 20)>\n",
       "Coordinates:\n",
       "  * time     (time) float64 0.0 353.6 707.1 ... 2.591e+06 2.591e+06 2.592e+06\n",
       "  * y        (y) float64 -1e+06 -9e+05 -8e+05 -7e+05 ... 6e+05 7e+05 8e+05 9e+05\n",
       "  * x        (x) float64 0.0 1e+05 2e+05 3e+05 ... 1.7e+06 1.8e+06 1.9e+06"
      ]
     },
     "execution_count": 9,
     "metadata": {},
     "output_type": "execute_result"
    }
   ],
   "source": [
    "da_hr_interp_subset"
   ]
  },
  {
   "cell_type": "code",
   "execution_count": 10,
   "metadata": {},
   "outputs": [
    {
     "data": {
      "text/plain": [
       "<xarray.DataArray 'eta' (time: 7331, y: 20, x: 20)>\n",
       "dask.array<shape=(7331, 20, 20), dtype=float64, chunksize=(7331, 20, 20)>\n",
       "Coordinates:\n",
       "  * time     (time) float64 0.0 353.6 707.1 ... 2.591e+06 2.591e+06 2.592e+06\n",
       "  * y        (y) float64 -1e+06 -9e+05 -8e+05 -7e+05 ... 6e+05 7e+05 8e+05 9e+05\n",
       "  * x        (x) float64 0.0 1e+05 2e+05 3e+05 ... 1.7e+06 1.8e+06 1.9e+06"
      ]
     },
     "execution_count": 10,
     "metadata": {},
     "output_type": "execute_result"
    }
   ],
   "source": [
    "da_lr"
   ]
  },
  {
   "cell_type": "markdown",
   "metadata": {},
   "source": [
    "### Loading Predictions and Trained Models"
   ]
  },
  {
   "cell_type": "code",
   "execution_count": 11,
   "metadata": {},
   "outputs": [],
   "source": [
    "def load_predictions(data, hora, step_x, step_y):\n",
    "    folder = '/home/guinelli/mestrado/stconvs2s/output/full-dataset/predictions/stconvs2s-r/'\n",
    "    \n",
    "    inputs = torch.load(folder + f'shalow_water_x_step_{step_x}_y_step_{step_y}_4_{data}-{hora}_input.pt')\n",
    "    targets = torch.load(folder + f'shalow_water_x_step_{step_x}_y_step_{step_y}_4_{data}-{hora}_target.pt')\n",
    "    predicts = torch.load(folder + f'shalow_water_x_step_{step_x}_y_step_{step_y}_4_{data}-{hora}_predictions.pt')\n",
    "    \n",
    "    return inputs, targets, predicts"
   ]
  },
  {
   "cell_type": "code",
   "execution_count": 12,
   "metadata": {},
   "outputs": [],
   "source": [
    "def load_checkpoint(filename, model_name, dataset_type=None, model=None):\n",
    "    if not(os.path.isabs(filename)):\n",
    "        filename = os.path.join('/home/guinelli/mestrado/stconvs2s/output', dataset_type, 'checkpoints', model_name.lower(), filename)  \n",
    "    epoch, loss = 0.0, 0.0\n",
    "    if os.path.isfile(filename):\n",
    "        checkpoint = torch.load(filename)\n",
    "        name = os.path.basename(filename)\n",
    "        model.load_state_dict(checkpoint['model_state_dict'])\n",
    "        epoch = checkpoint['epoch']\n",
    "        loss = checkpoint['loss']\n",
    "        print(f'=> Loaded checkpoint {name} (best epoch: {epoch}, validation rmse: {loss:.4f})')\n",
    "    else:\n",
    "        print(f'=> No checkpoint found at {filename}')\n",
    "\n",
    "    return model"
   ]
  },
  {
   "cell_type": "code",
   "execution_count": 13,
   "metadata": {},
   "outputs": [],
   "source": [
    "models = []\n",
    "models.append({'name': '05', 't_data': '20210404', 't_time': '133855', 'x_step': 5, 'y_step': 5, 't_step': 10})\n",
    "models.append({'name': '10', 't_data': '20210404', 't_time': '145146', 'x_step': 5, 'y_step': 10, 't_step': 10})\n",
    "models.append({'name': '15', 't_data': '20210404', 't_time': '160425', 'x_step': 5, 'y_step': 15, 't_step': 10})\n",
    "models.append({'name': '20', 't_data': '20210404', 't_time': '171542', 'x_step': 5, 'y_step': 20, 't_step': 10})\n",
    "models.append({'name': '25', 't_data': '20210404', 't_time': '190223', 'x_step': 5, 'y_step': 25, 't_step': 10})\n",
    "models.append({'name': '30', 't_data': '20210404', 't_time': '210946', 'x_step': 5, 'y_step': 30, 't_step': 10})"
   ]
  },
  {
   "cell_type": "code",
   "execution_count": 14,
   "metadata": {},
   "outputs": [],
   "source": [
    "# same parameters from training\n",
    "num_layers = 3\n",
    "hidden_dim = 32\n",
    "kernel_size = 3\n",
    "device = torch.device('cuda')\n",
    "dropout_rate = 0"
   ]
  },
  {
   "cell_type": "code",
   "execution_count": 15,
   "metadata": {},
   "outputs": [
    {
     "name": "stdout",
     "output_type": "stream",
     "text": [
      "=> Loaded checkpoint shalow_water_x_step_5_y_step_5_4_20210404-133855.pth.tar (best epoch: 30, validation rmse: 0.0015)\n",
      "=> Loaded checkpoint shalow_water_x_step_5_y_step_10_4_20210404-145146.pth.tar (best epoch: 30, validation rmse: 0.0016)\n",
      "=> Loaded checkpoint shalow_water_x_step_5_y_step_15_4_20210404-160425.pth.tar (best epoch: 39, validation rmse: 0.0016)\n",
      "=> Loaded checkpoint shalow_water_x_step_5_y_step_20_4_20210404-171542.pth.tar (best epoch: 39, validation rmse: 0.0014)\n",
      "=> Loaded checkpoint shalow_water_x_step_5_y_step_25_4_20210404-190223.pth.tar (best epoch: 39, validation rmse: 0.0014)\n",
      "=> Loaded checkpoint shalow_water_x_step_5_y_step_30_4_20210404-210946.pth.tar (best epoch: 38, validation rmse: 0.0016)\n"
     ]
    }
   ],
   "source": [
    "i=0\n",
    "for m in models:\n",
    "    data, time, x_step, y_step = m['t_data'], m['t_time'], m['x_step'], m['y_step']\n",
    "    x_shape = [1, 1, x_step, 20, 20]\n",
    "    m['inputs'], m['targets'], m['predictions'] = load_predictions(data, time, x_step, y_step)\n",
    "    filename = f'shalow_water_x_step_{x_step}_y_step_{y_step}_4_{data}-{time}.pth.tar'\n",
    "    model = STConvS2S_R(x_shape, num_layers, hidden_dim, kernel_size, device, dropout_rate, y_step)\n",
    "    model.to(device)\n",
    "    m['model'] = load_checkpoint(filename, 'stconvs2s-r', 'full-dataset', model)\n",
    "    m['i']=i\n",
    "    i+=1"
   ]
  },
  {
   "cell_type": "code",
   "execution_count": null,
   "metadata": {},
   "outputs": [],
   "source": []
  },
  {
   "cell_type": "markdown",
   "metadata": {},
   "source": [
    "## Getting Data for Simulation"
   ]
  },
  {
   "cell_type": "code",
   "execution_count": null,
   "metadata": {},
   "outputs": [],
   "source": [
    "def read_dataset(x_size, y_size, time_step):\n",
    "    ds = xr.open_mfdataset(\n",
    "        f'/home/guinelli/mestrado/stconvs2s/data/dataset-shallow-water-eta-20.0km-xseq{x_size}-yseq{y_size}-ystep{time_step}.nc'\n",
    "    )\n",
    "    return ds"
   ]
  },
  {
   "cell_type": "code",
   "execution_count": null,
   "metadata": {},
   "outputs": [],
   "source": [
    "# aprox. 12min * 240 (aprox. 2 days)"
   ]
  },
  {
   "cell_type": "code",
   "execution_count": null,
   "metadata": {},
   "outputs": [],
   "source": []
  },
  {
   "cell_type": "markdown",
   "metadata": {},
   "source": [
    "### Making Predictions"
   ]
  },
  {
   "cell_type": "code",
   "execution_count": null,
   "metadata": {},
   "outputs": [],
   "source": [
    "def make_predictions(model, initial_input, steps, device):\n",
    "    model.eval()\n",
    "    predictions = []\n",
    "    seq_x = initial_input.shape[2]\n",
    "    with torch.no_grad():\n",
    "        i_input = initial_input\n",
    "        i_input = i_input.to(device)\n",
    "        for i in range(steps):\n",
    "            output = model(i_input)\n",
    "            predictions.append(output)\n",
    "            i_input = output[:,:,-5:]\n",
    "    \n",
    "    return predictions"
   ]
  },
  {
   "cell_type": "code",
   "execution_count": null,
   "metadata": {},
   "outputs": [],
   "source": [
    "for m in models:\n",
    "    x_step, y_step, t_step = m['x_step'], m['y_step'], m['t_step']\n",
    "    \n",
    "    ds = read_dataset(x_step, y_step, t_step)\n",
    "    # getting last 20% of the dataset for test\n",
    "    start_i = int(np.ceil(ds.x.shape[0] * 0.80))\n",
    "    # generating input and expected output (target)\n",
    "    ds = da_hr_interp_v[start_i::t_step,:,:][:260]\n",
    "    \n",
    "    num_pred = 240\n",
    "    m['x'], m['y'] = ds[0:x_step][None, None], ds[x_step:num_pred+x_step][None, None]\n",
    "    x = torch.tensor(m['x'], dtype=torch.float)\n",
    "    \n",
    "    steps = math.ceil(num_pred/y_step)\n",
    "    pred = make_predictions(model=m['model'], initial_input=x, steps=steps, device=device)\n",
    "    pred = torch.cat(pred, dim=2)\n",
    "    m['pred'] = pred.cpu().numpy()"
   ]
  },
  {
   "cell_type": "markdown",
   "metadata": {},
   "source": [
    "## Analysing Predictions"
   ]
  },
  {
   "cell_type": "code",
   "execution_count": null,
   "metadata": {},
   "outputs": [],
   "source": [
    "class RMSELoss(torch.nn.Module):\n",
    "    def __init__(self):\n",
    "        super().__init__()\n",
    "        self.mse = torch.nn.MSELoss()\n",
    "        \n",
    "    def forward(self,yhat,y):\n",
    "        return torch.sqrt(self.mse(yhat,y) + 1e-6 )"
   ]
  },
  {
   "cell_type": "code",
   "execution_count": null,
   "metadata": {},
   "outputs": [],
   "source": [
    "def get_loss(target, output):\n",
    "    rmse_loss, mae_loss, x = [], [], []\n",
    "    #criterium = torch.nn.MSELoss()\n",
    "    criterium = RMSELoss()\n",
    "\n",
    "    for i in range(target.shape[2]):\n",
    "        yhat, y = output[:,:,i,:,:], target[:,:,i,:,:]\n",
    "        yhat, y = torch.from_numpy(yhat), torch.from_numpy(y)\n",
    "        rmse_loss.append(criterium(yhat, y))\n",
    "        mae_loss.append(F.l1_loss(yhat, y))\n",
    "        \n",
    "    return rmse_loss, mae_loss"
   ]
  },
  {
   "cell_type": "code",
   "execution_count": null,
   "metadata": {},
   "outputs": [],
   "source": []
  },
  {
   "cell_type": "markdown",
   "metadata": {},
   "source": [
    "### Error X Time Steps"
   ]
  },
  {
   "cell_type": "code",
   "execution_count": null,
   "metadata": {},
   "outputs": [],
   "source": [
    "criterium = RMSELoss()\n",
    "rmse, mae, seq = [], [], []\n",
    "for m in models:\n",
    "    m['t_rmse'], m['t_mae'] = criterium(m['predictions'], m['targets']), F.l1_loss(m['predictions'], m['targets'])\n",
    "    rmse.append(m['t_rmse'])\n",
    "    mae.append(m['t_mae'])\n",
    "    seq.append(str(m['y_step']))"
   ]
  },
  {
   "cell_type": "code",
   "execution_count": null,
   "metadata": {},
   "outputs": [
    {
     "data": {
      "text/plain": [
       "[]"
      ]
     },
     "execution_count": 23,
     "metadata": {},
     "output_type": "execute_result"
    },
    {
     "data": {
      "image/png": "[encoded data removed]",
      "text/plain": [
       "<Figure size 720x504 with 1 Axes>"
      ]
     },
     "metadata": {
      "needs_background": "light"
     },
     "output_type": "display_data"
    }
   ],
   "source": [
    "fig, ax = plt.subplots(figsize=(10,7))\n",
    "ax.bar(seq, rmse)\n",
    "ax.set_ylabel('error')\n",
    "ax.set_xlabel('output steps')\n",
    "plt.plot()"
   ]
  },
  {
   "cell_type": "code",
   "execution_count": null,
   "metadata": {},
   "outputs": [],
   "source": []
  },
  {
   "cell_type": "code",
   "execution_count": null,
   "metadata": {},
   "outputs": [],
   "source": []
  },
  {
   "cell_type": "markdown",
   "metadata": {},
   "source": [
    "## Conservation of Mass"
   ]
  },
  {
   "cell_type": "code",
   "execution_count": null,
   "metadata": {},
   "outputs": [
    {
     "name": "stdout",
     "output_type": "stream",
     "text": [
      "(1, 1, 240, 20, 20)\n",
      "(1, 1, 240, 20, 20)\n",
      "(1, 1, 240, 20, 20)\n",
      "(1, 1, 240, 20, 20)\n",
      "(1, 1, 250, 20, 20)\n",
      "(1, 1, 240, 20, 20)\n"
     ]
    }
   ],
   "source": [
    "for m in models:\n",
    "    m['sum'] = np.squeeze(m['pred']).sum(1).sum(1)\n",
    "    print(m['pred'].shape)"
   ]
  },
  {
   "cell_type": "code",
   "execution_count": null,
   "metadata": {},
   "outputs": [],
   "source": [
    "sum_lr = da_lr_v[::2].sum(1).sum(1)\n",
    "sum_hr = da_hr_interp_subset_v[::2].sum(1).sum(1)\n",
    "sum_hr2 = da_hr.values[::10].sum(1).sum(1) / 25"
   ]
  },
  {
   "cell_type": "code",
   "execution_count": null,
   "metadata": {},
   "outputs": [],
   "source": [
    "length = 240\n",
    "x = np.arange(1,length+1)\n",
    "\n",
    "fig, axs = plt.subplots((len(models)+1)//2, 2, figsize=(20,10), sharex=True, sharey=True)\n",
    "fig.suptitle(\"Conservation of Mass\", size=24)\n",
    "for i, m in enumerate(models):\n",
    "    l, c = i//2, i%2\n",
    "    axs[l, c].plot(x, m['sum'][:length], \"-g\", label=m[\"name\"])\n",
    "    axs[l, c].plot(x, sum_hr[:length], \"-b\", label=\"High Res\")\n",
    "    axs[l, c].plot(x, sum_lr[:length], \"-r\", label=\"Low Res\")\n",
    "    axs[l, c].legend(loc=\"upper left\")\n",
    "plt.ylim(13, 15)\n",
    "plt.show()"
   ]
  },
  {
   "cell_type": "code",
   "execution_count": null,
   "metadata": {},
   "outputs": [],
   "source": [
    "length = 240\n",
    "x = np.arange(1,length+1)\n",
    "\n",
    "fig, axs = plt.subplots((len(models)+1)//2, 2, figsize=(20,15), sharex=True, sharey=True)\n",
    "fig.suptitle(\"Target x Prediction (Center - 10x10)\", size=24)\n",
    "for i, m in enumerate(models):\n",
    "    l, c = i//2, i%2\n",
    "    axs[l, c].plot(x, m['pred'][0,0,:length,10,10], \"-g\", label=m[\"name\"])\n",
    "    axs[l, c].plot(x, m[\"y\"][0,0,:length,10,10], \"-b\", label=\"target\")\n",
    "    axs[l, c].legend(loc=\"upper left\")\n",
    "plt.ylim(0, 0.08)\n",
    "plt.show()"
   ]
  },
  {
   "cell_type": "code",
   "execution_count": null,
   "metadata": {},
   "outputs": [],
   "source": [
    "length = 240\n",
    "x = np.arange(1,length+1)\n",
    "\n",
    "fig, axs = plt.subplots((len(models)+1)//2, 2, figsize=(20,15), sharex=True, sharey=True)\n",
    "fig.suptitle(\"Target x Prediction (5x5)\", size=24)\n",
    "for i, m in enumerate(models):\n",
    "    l, c = i//2, i%2\n",
    "    axs[l, c].plot(x, m['pred'][0,0,:length,5,5], \"-g\", label=m[\"name\"])\n",
    "    axs[l, c].plot(x, m[\"y\"][0,0,:length,5,5], \"-b\", label=\"target\")\n",
    "    axs[l, c].legend(loc=\"upper left\")\n",
    "plt.legend(loc=\"upper left\")\n",
    "plt.ylim(0.025, 0.065)\n",
    "plt.show()"
   ]
  },
  {
   "cell_type": "code",
   "execution_count": null,
   "metadata": {},
   "outputs": [],
   "source": [
    "length = 240\n",
    "x = np.arange(1,length+1)\n",
    "\n",
    "fig, axs = plt.subplots((len(models)+1)//2, 2, figsize=(20,15), sharex=True, sharey=True)\n",
    "fig.suptitle(\"Target x Prediction Border (0x0)\", size=24)\n",
    "for i, m in enumerate(models):\n",
    "    l, c = i//2, i%2\n",
    "    axs[l, c].plot(x, m['pred'][0,0,:length,0,0], \"-g\", label=m[\"name\"])\n",
    "    axs[l, c].plot(x, m[\"y\"][0,0,:length,0,0], \"-b\", label=\"target\")\n",
    "    axs[l, c].legend(loc=\"upper left\")\n",
    "plt.legend(loc=\"upper left\")\n",
    "plt.ylim(0, 0.08)\n",
    "plt.show()"
   ]
  },
  {
   "cell_type": "markdown",
   "metadata": {},
   "source": [
    "## Errors"
   ]
  },
  {
   "cell_type": "code",
   "execution_count": null,
   "metadata": {},
   "outputs": [],
   "source": [
    "for m in models:\n",
    "    m['rmse'], m['mae'] = get_loss(m['pred'][:,:,:m['y'].shape[2]], m[\"y\"])"
   ]
  },
  {
   "cell_type": "code",
   "execution_count": null,
   "metadata": {},
   "outputs": [],
   "source": [
    "rmse_lr, mae_lr = get_loss(da_hr_interp_subset_v[::2][None, None], da_lr_v[::2][None, None])"
   ]
  },
  {
   "cell_type": "code",
   "execution_count": null,
   "metadata": {},
   "outputs": [],
   "source": [
    "length = 240\n",
    "x = np.arange(1,length+1)\n",
    "\n",
    "fig, axs = plt.subplots((len(models)+1)//2, 2, figsize=(20,15), sharey=True)\n",
    "fig.suptitle(\"Error X Prediction Steps\", size=24)\n",
    "for i, m in enumerate(models):\n",
    "    l, c = i//2, i%2\n",
    "    axs[l, c].plot(x, m['rmse'][:length], \"-g\", label=m[\"name\"])\n",
    "    axs[l, c].plot(x, rmse_lr[:length], \"-b\", label=\"Low Res\")\n",
    "    axs[l, c].legend(loc=\"upper left\")\n",
    "    axs[l, c].set_xticks(np.arange(0, length+1, 20))\n",
    "plt.ylim(0, 0.015)\n",
    "plt.show()"
   ]
  },
  {
   "cell_type": "code",
   "execution_count": null,
   "metadata": {},
   "outputs": [],
   "source": []
  }
 ],
 "metadata": {
  "kernelspec": {
   "display_name": "pytorch",
   "language": "python",
   "name": "pytorch"
  },
  "language_info": {
   "codemirror_mode": {
    "name": "ipython",
    "version": 3
   },
   "file_extension": ".py",
   "mimetype": "text/x-python",
   "name": "python",
   "nbconvert_exporter": "python",
   "pygments_lexer": "ipython3",
   "version": "3.6.7"
  }
 },
 "nbformat": 4,
 "nbformat_minor": 4
}
